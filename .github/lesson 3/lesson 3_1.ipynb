{
 "cells": [
  {
   "cell_type": "code",
   "execution_count": null,
   "id": "39e48477",
   "metadata": {},
   "outputs": [],
   "source": [
    "5+5.0\n",
    "5+5.0+10\n",
    "2+3*4"
   ]
  }
 ],
 "metadata": {
  "language_info": {
   "name": "python"
  }
 },
 "nbformat": 4,
 "nbformat_minor": 5
}
