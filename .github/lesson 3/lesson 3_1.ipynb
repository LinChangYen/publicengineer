{
 "cells": [
  {
   "cell_type": "code",
   "execution_count": 1,
   "id": "39e48477",
   "metadata": {},
   "outputs": [
    {
     "data": {
      "text/plain": [
       "14"
      ]
     },
     "execution_count": 1,
     "metadata": {},
     "output_type": "execute_result"
    }
   ],
   "source": [
    "5+5.0\n",
    "5+5.0+10\n",
    "2+3*4"
   ]
  },
  {
   "cell_type": "code",
   "execution_count": 4,
   "id": "6e701574",
   "metadata": {},
   "outputs": [
    {
     "data": {
      "text/plain": [
       "10"
      ]
     },
     "execution_count": 4,
     "metadata": {},
     "output_type": "execute_result"
    }
   ],
   "source": [
    "2*(1+2)**2-2**2*2"
   ]
  },
  {
   "cell_type": "code",
   "execution_count": 5,
   "id": "5c1ac79c",
   "metadata": {},
   "outputs": [
    {
     "data": {
      "text/plain": [
       "10"
      ]
     },
     "execution_count": 5,
     "metadata": {},
     "output_type": "execute_result"
    }
   ],
   "source": [
    "2+3*4\n",
    "(2+3)*4\n",
    "2*(1+2)**2-2**2*2"
   ]
  },
  {
   "cell_type": "code",
   "execution_count": 7,
   "id": "2f454788",
   "metadata": {},
   "outputs": [
    {
     "name": "stdout",
     "output_type": "stream",
     "text": [
      "14\n",
      "20\n",
      "10\n"
     ]
    }
   ],
   "source": [
    "value1=2+3*4\n",
    "value2=(2+3)*4\n",
    "value3=2*(1+2)**2-2**2*2\n",
    "print(value1)\n",
    "print(value2)\n",
    "print(value3)"
   ]
  }
 ],
 "metadata": {
  "kernelspec": {
   "display_name": "base",
   "language": "python",
   "name": "python3"
  },
  "language_info": {
   "codemirror_mode": {
    "name": "ipython",
    "version": 3
   },
   "file_extension": ".py",
   "mimetype": "text/x-python",
   "name": "python",
   "nbconvert_exporter": "python",
   "pygments_lexer": "ipython3",
   "version": "3.13.2"
  }
 },
 "nbformat": 4,
 "nbformat_minor": 5
}
